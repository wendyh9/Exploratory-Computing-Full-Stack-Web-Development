{
 "cells": [
  {
   "cell_type": "code",
   "execution_count": null,
   "id": "61f9bce7",
   "metadata": {},
   "outputs": [],
   "source": [
    "import pandas as pd\n",
    "\n",
    "data = pd.read_csv(r'C:\\Users\\wendy\\CSE-106\\Lab_2/weather_data.txt', skipinitialspace = True)\n",
    "df = pd.DataFrame(data)"
   ]
  },
  {
   "cell_type": "code",
   "execution_count": null,
   "id": "fb74b9a6",
   "metadata": {},
   "outputs": [],
   "source": [
    "# how to print data types of columns in a data frame\n",
    "print(data.dtypes)"
   ]
  },
  {
   "cell_type": "code",
   "execution_count": null,
   "id": "9b9f26fa",
   "metadata": {},
   "outputs": [],
   "source": [
    "# largest val in actual_percipitation col\n",
    "max_actual_percipitation = df['actual_precipitation'].max()\n",
    "\n",
    "# row(s) that include the largest val in actual_percipitation\n",
    "df.loc[df['actual_precipitation'] == max_actual_percipitation]"
   ]
  },
  {
   "cell_type": "code",
   "execution_count": null,
   "id": "f435b1d5",
   "metadata": {},
   "outputs": [],
   "source": [
    "# PART A: date(s) when largest val in actual_percipitation \n",
    "df['date'][df['actual_precipitation'] == max_actual_percipitation]"
   ]
  },
  {
   "cell_type": "code",
   "execution_count": null,
   "id": "8afb3f0a",
   "metadata": {},
   "outputs": [],
   "source": [
    "# gets rows with dates in July 2014\n",
    "range_2014_7 = df.loc[df['date'].between('2014-7-1', '2014-7-31')]"
   ]
  },
  {
   "cell_type": "code",
   "execution_count": null,
   "id": "a75c7f8b",
   "metadata": {},
   "outputs": [],
   "source": [
    "# mean of actual max temp in July 2014\n",
    "df[df['date'].between('2014-7-1', '2014-7-31')]['actual_max_temp'].mean()"
   ]
  },
  {
   "cell_type": "code",
   "execution_count": null,
   "id": "4ffe82a9",
   "metadata": {},
   "outputs": [],
   "source": [
    "# dates when actual max temp == the record max temp\n",
    "df['date'][df['actual_max_temp'] == df['record_max_temp']]"
   ]
  },
  {
   "cell_type": "code",
   "execution_count": null,
   "id": "e5aee584",
   "metadata": {},
   "outputs": [],
   "source": [
    "# actual percipitation in October 2014\n",
    "df[df['date'].between('2014-10-1', '2014-10-31')]['actual_precipitation'].sum()"
   ]
  },
  {
   "cell_type": "code",
   "execution_count": null,
   "id": "d7296837",
   "metadata": {},
   "outputs": [],
   "source": [
    "# when (if any day(s)) actual min temperature below 60 degrees and actual max temperature above\n",
    "# 90 degrees on same day\n",
    "\n",
    "df['date'][(df['actual_min_temp'] < 60) & (df['actual_max_temp'] > 90)]\n",
    "\n",
    "# this is for whole row\n",
    "# df.loc[(df['actual_min_temp'] < 60) & (df['actual_max_temp'] > 90)]"
   ]
  }
 ],
 "metadata": {
  "kernelspec": {
   "display_name": "base",
   "language": "python",
   "name": "python3"
  },
  "language_info": {
   "codemirror_mode": {
    "name": "ipython",
    "version": 3
   },
   "file_extension": ".py",
   "mimetype": "text/x-python",
   "name": "python",
   "nbconvert_exporter": "python",
   "pygments_lexer": "ipython3",
   "version": "3.9.16"
  },
  "vscode": {
   "interpreter": {
    "hash": "27cf447f8dd78f9a326311aaa03db8d800efc16c5a762d72bd10db4246f6f8b6"
   }
  }
 },
 "nbformat": 4,
 "nbformat_minor": 5
}
